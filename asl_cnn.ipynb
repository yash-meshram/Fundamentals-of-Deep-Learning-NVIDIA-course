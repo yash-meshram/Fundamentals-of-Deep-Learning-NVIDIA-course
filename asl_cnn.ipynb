{
 "cells": [
  {
   "cell_type": "code",
   "execution_count": 1,
   "metadata": {},
   "outputs": [],
   "source": [
    "import tensorflow.keras as keras\n",
    "import pandas as pd\n",
    "\n",
    "# Load in our data from CSV files\n",
    "train_df = pd.read_csv(\"data/asl_data/sign_mnist_train.csv\")\n",
    "valid_df = pd.read_csv(\"data/asl_data/sign_mnist_valid.csv\")\n",
    "\n",
    "# Separate out our target values\n",
    "y_train = train_df['label']\n",
    "y_valid = valid_df['label']\n",
    "del train_df['label']\n",
    "del valid_df['label']\n",
    "\n",
    "# Separate out our image vectors\n",
    "x_train = train_df.values\n",
    "x_valid = valid_df.values\n",
    "\n",
    "# Turn our scalar targets into binary categories\n",
    "num_classes = 24\n",
    "y_train = keras.utils.to_categorical(y_train, num_classes)\n",
    "y_valid = keras.utils.to_categorical(y_valid, num_classes)\n",
    "\n",
    "# Normalize our image data\n",
    "x_train = x_train / 255\n",
    "x_valid = x_valid / 255"
   ]
  },
  {
   "cell_type": "code",
   "execution_count": 2,
   "metadata": {},
   "outputs": [
    {
     "data": {
      "text/plain": [
       "((27455, 784), (7172, 784))"
      ]
     },
     "execution_count": 2,
     "metadata": {},
     "output_type": "execute_result"
    }
   ],
   "source": [
    "x_train.shape, x_valid.shape"
   ]
  },
  {
   "cell_type": "code",
   "execution_count": 3,
   "metadata": {},
   "outputs": [],
   "source": [
    "x_train = x_train.reshape(-1,28,28,1)\n",
    "x_valid = x_valid.reshape(-1,28,28,1)"
   ]
  },
  {
   "cell_type": "code",
   "execution_count": 4,
   "metadata": {},
   "outputs": [
    {
     "data": {
      "text/plain": [
       "(27455, 28, 28, 1)"
      ]
     },
     "execution_count": 4,
     "metadata": {},
     "output_type": "execute_result"
    }
   ],
   "source": [
    "x_train.shape"
   ]
  },
  {
   "cell_type": "code",
   "execution_count": 5,
   "metadata": {},
   "outputs": [
    {
     "data": {
      "text/plain": [
       "(7172, 28, 28, 1)"
      ]
     },
     "execution_count": 5,
     "metadata": {},
     "output_type": "execute_result"
    }
   ],
   "source": [
    "x_valid.shape"
   ]
  },
  {
   "cell_type": "code",
   "execution_count": 6,
   "metadata": {},
   "outputs": [
    {
     "data": {
      "text/plain": [
       "((27455, 28, 28, 1), (7172, 28, 28, 1))"
      ]
     },
     "execution_count": 6,
     "metadata": {},
     "output_type": "execute_result"
    }
   ],
   "source": [
    "x_train.shape, x_valid.shape"
   ]
  },
  {
   "cell_type": "code",
   "execution_count": 7,
   "metadata": {},
   "outputs": [],
   "source": [
    "from tensorflow.keras.models import Sequential\n",
    "from tensorflow.keras.layers import (\n",
    "    Dense,\n",
    "    Conv2D,\n",
    "    MaxPool2D,\n",
    "    Flatten,\n",
    "    Dropout,\n",
    "    BatchNormalization,\n",
    ")\n",
    "\n",
    "model = Sequential()\n",
    "model.add(Conv2D(75, (3, 3), strides=1, padding=\"same\", activation=\"relu\", \n",
    "                 input_shape=(28, 28, 1)))\n",
    "model.add(BatchNormalization())\n",
    "model.add(MaxPool2D((2, 2), strides=2, padding=\"same\"))\n",
    "model.add(Conv2D(50, (3, 3), strides=1, padding=\"same\", activation=\"relu\"))\n",
    "model.add(Dropout(0.2))\n",
    "model.add(BatchNormalization())\n",
    "model.add(MaxPool2D((2, 2), strides=2, padding=\"same\"))\n",
    "model.add(Conv2D(25, (3, 3), strides=1, padding=\"same\", activation=\"relu\"))\n",
    "model.add(BatchNormalization())\n",
    "model.add(MaxPool2D((2, 2), strides=2, padding=\"same\"))\n",
    "model.add(Flatten())\n",
    "model.add(Dense(units=512, activation=\"relu\"))\n",
    "model.add(Dropout(0.3))\n",
    "model.add(Dense(units=num_classes, activation=\"softmax\"))"
   ]
  },
  {
   "cell_type": "code",
   "execution_count": 8,
   "metadata": {},
   "outputs": [
    {
     "name": "stdout",
     "output_type": "stream",
     "text": [
      "Model: \"sequential\"\n",
      "_________________________________________________________________\n",
      "Layer (type)                 Output Shape              Param #   \n",
      "=================================================================\n",
      "conv2d (Conv2D)              (None, 28, 28, 75)        750       \n",
      "_________________________________________________________________\n",
      "batch_normalization (BatchNo (None, 28, 28, 75)        300       \n",
      "_________________________________________________________________\n",
      "max_pooling2d (MaxPooling2D) (None, 14, 14, 75)        0         \n",
      "_________________________________________________________________\n",
      "conv2d_1 (Conv2D)            (None, 14, 14, 50)        33800     \n",
      "_________________________________________________________________\n",
      "dropout (Dropout)            (None, 14, 14, 50)        0         \n",
      "_________________________________________________________________\n",
      "batch_normalization_1 (Batch (None, 14, 14, 50)        200       \n",
      "_________________________________________________________________\n",
      "max_pooling2d_1 (MaxPooling2 (None, 7, 7, 50)          0         \n",
      "_________________________________________________________________\n",
      "conv2d_2 (Conv2D)            (None, 7, 7, 25)          11275     \n",
      "_________________________________________________________________\n",
      "batch_normalization_2 (Batch (None, 7, 7, 25)          100       \n",
      "_________________________________________________________________\n",
      "max_pooling2d_2 (MaxPooling2 (None, 4, 4, 25)          0         \n",
      "_________________________________________________________________\n",
      "flatten (Flatten)            (None, 400)               0         \n",
      "_________________________________________________________________\n",
      "dense (Dense)                (None, 512)               205312    \n",
      "_________________________________________________________________\n",
      "dropout_1 (Dropout)          (None, 512)               0         \n",
      "_________________________________________________________________\n",
      "dense_1 (Dense)              (None, 24)                12312     \n",
      "=================================================================\n",
      "Total params: 264,049\n",
      "Trainable params: 263,749\n",
      "Non-trainable params: 300\n",
      "_________________________________________________________________\n"
     ]
    }
   ],
   "source": [
    "model.summary()"
   ]
  },
  {
   "cell_type": "code",
   "execution_count": 9,
   "metadata": {},
   "outputs": [],
   "source": [
    "model.compile(loss=\"categorical_crossentropy\", metrics=[\"accuracy\"])"
   ]
  },
  {
   "cell_type": "code",
   "execution_count": 10,
   "metadata": {},
   "outputs": [
    {
     "name": "stdout",
     "output_type": "stream",
     "text": [
      "Epoch 1/20\n",
      "858/858 [==============================] - 5s 6ms/step - loss: 0.3175 - accuracy: 0.8994 - val_loss: 3.2154 - val_accuracy: 0.5276\n",
      "Epoch 2/20\n",
      "858/858 [==============================] - 4s 5ms/step - loss: 0.0215 - accuracy: 0.9930 - val_loss: 0.2457 - val_accuracy: 0.9366\n",
      "Epoch 3/20\n",
      "858/858 [==============================] - 4s 5ms/step - loss: 0.0120 - accuracy: 0.9962 - val_loss: 0.1253 - val_accuracy: 0.9532\n",
      "Epoch 4/20\n",
      "858/858 [==============================] - 4s 5ms/step - loss: 0.0058 - accuracy: 0.9984 - val_loss: 0.2303 - val_accuracy: 0.9343\n",
      "Epoch 5/20\n",
      "858/858 [==============================] - 4s 5ms/step - loss: 0.0082 - accuracy: 0.9979 - val_loss: 0.2072 - val_accuracy: 0.9398\n",
      "Epoch 6/20\n",
      "858/858 [==============================] - 4s 5ms/step - loss: 0.0040 - accuracy: 0.9986 - val_loss: 0.2433 - val_accuracy: 0.9573\n",
      "Epoch 7/20\n",
      "858/858 [==============================] - 4s 5ms/step - loss: 0.0042 - accuracy: 0.9989 - val_loss: 0.2040 - val_accuracy: 0.9624\n",
      "Epoch 8/20\n",
      "858/858 [==============================] - 4s 5ms/step - loss: 0.0039 - accuracy: 0.9989 - val_loss: 0.1316 - val_accuracy: 0.9639\n",
      "Epoch 9/20\n",
      "858/858 [==============================] - 4s 5ms/step - loss: 0.0045 - accuracy: 0.9986 - val_loss: 0.7471 - val_accuracy: 0.9268\n",
      "Epoch 10/20\n",
      "858/858 [==============================] - 4s 5ms/step - loss: 0.0025 - accuracy: 0.9992 - val_loss: 0.2079 - val_accuracy: 0.9628\n",
      "Epoch 11/20\n",
      "858/858 [==============================] - 4s 5ms/step - loss: 0.0023 - accuracy: 0.9992 - val_loss: 0.2921 - val_accuracy: 0.9551\n",
      "Epoch 12/20\n",
      "858/858 [==============================] - 4s 5ms/step - loss: 0.0027 - accuracy: 0.9991 - val_loss: 0.2718 - val_accuracy: 0.9626\n",
      "Epoch 13/20\n",
      "858/858 [==============================] - 4s 5ms/step - loss: 0.0026 - accuracy: 0.9995 - val_loss: 0.2450 - val_accuracy: 0.9603\n",
      "Epoch 14/20\n",
      "858/858 [==============================] - 4s 5ms/step - loss: 0.0017 - accuracy: 0.9996 - val_loss: 0.3159 - val_accuracy: 0.9635\n",
      "Epoch 15/20\n",
      "858/858 [==============================] - 4s 5ms/step - loss: 0.0024 - accuracy: 0.9994 - val_loss: 0.2181 - val_accuracy: 0.9615\n",
      "Epoch 16/20\n",
      "858/858 [==============================] - 4s 5ms/step - loss: 0.0026 - accuracy: 0.9993 - val_loss: 0.2414 - val_accuracy: 0.9621\n",
      "Epoch 17/20\n",
      "858/858 [==============================] - 4s 5ms/step - loss: 0.0020 - accuracy: 0.9996 - val_loss: 0.1901 - val_accuracy: 0.9696\n",
      "Epoch 18/20\n",
      "858/858 [==============================] - 4s 5ms/step - loss: 0.0020 - accuracy: 0.9996 - val_loss: 0.3627 - val_accuracy: 0.9559\n",
      "Epoch 19/20\n",
      "858/858 [==============================] - 4s 5ms/step - loss: 0.0022 - accuracy: 0.9995 - val_loss: 0.1801 - val_accuracy: 0.9702\n",
      "Epoch 20/20\n",
      "858/858 [==============================] - 4s 5ms/step - loss: 0.0010 - accuracy: 0.9997 - val_loss: 0.3242 - val_accuracy: 0.9607\n"
     ]
    },
    {
     "data": {
      "text/plain": [
       "<tensorflow.python.keras.callbacks.History at 0x7f465d4f7ef0>"
      ]
     },
     "execution_count": 10,
     "metadata": {},
     "output_type": "execute_result"
    }
   ],
   "source": [
    "model.fit(x_train, y_train, epochs=20, verbose=1, validation_data=(x_valid, y_valid))"
   ]
  },
  {
   "cell_type": "code",
   "execution_count": null,
   "metadata": {},
   "outputs": [],
   "source": [
    "import IPython\n",
    "app = IPython.Application.instance()\n",
    "app.kernel.do_shutdown(True)"
   ]
  }
 ],
 "metadata": {
  "kernelspec": {
   "display_name": "Python 3",
   "language": "python",
   "name": "python3"
  },
  "language_info": {
   "codemirror_mode": {
    "name": "ipython",
    "version": 3
   },
   "file_extension": ".py",
   "mimetype": "text/x-python",
   "name": "python",
   "nbconvert_exporter": "python",
   "pygments_lexer": "ipython3",
   "version": "3.7.4"
  }
 },
 "nbformat": 4,
 "nbformat_minor": 4
}
